{
 "cells": [
  {
   "cell_type": "code",
   "execution_count": 1,
   "metadata": {},
   "outputs": [
    {
     "data": {
      "text/html": [
       "<div>\n",
       "<style scoped>\n",
       "    .dataframe tbody tr th:only-of-type {\n",
       "        vertical-align: middle;\n",
       "    }\n",
       "\n",
       "    .dataframe tbody tr th {\n",
       "        vertical-align: top;\n",
       "    }\n",
       "\n",
       "    .dataframe thead th {\n",
       "        text-align: right;\n",
       "    }\n",
       "</style>\n",
       "<table border=\"1\" class=\"dataframe\">\n",
       "  <thead>\n",
       "    <tr style=\"text-align: right;\">\n",
       "      <th></th>\n",
       "      <th>email</th>\n",
       "      <th>id</th>\n",
       "      <th>name</th>\n",
       "    </tr>\n",
       "  </thead>\n",
       "  <tbody>\n",
       "    <tr>\n",
       "      <th>0</th>\n",
       "      <td>ben@gmail.io</td>\n",
       "      <td>1</td>\n",
       "      <td>ben</td>\n",
       "    </tr>\n",
       "    <tr>\n",
       "      <th>1</th>\n",
       "      <td>leo@gmail.io</td>\n",
       "      <td>7</td>\n",
       "      <td>leo</td>\n",
       "    </tr>\n",
       "    <tr>\n",
       "      <th>2</th>\n",
       "      <td>mary@gmail.io</td>\n",
       "      <td>9</td>\n",
       "      <td>mary</td>\n",
       "    </tr>\n",
       "  </tbody>\n",
       "</table>\n",
       "</div>"
      ],
      "text/plain": [
       "           email  id  name\n",
       "0   ben@gmail.io   1   ben\n",
       "1   leo@gmail.io   7   leo\n",
       "2  mary@gmail.io   9  mary"
      ]
     },
     "execution_count": 1,
     "metadata": {},
     "output_type": "execute_result"
    }
   ],
   "source": [
    "import pandas as pd\n",
    "\n",
    "user_df = pd.read_json('users.json')\n",
    "user_df.head()"
   ]
  },
  {
   "cell_type": "code",
   "execution_count": 2,
   "metadata": {},
   "outputs": [
    {
     "data": {
      "text/html": [
       "<div>\n",
       "<style scoped>\n",
       "    .dataframe tbody tr th:only-of-type {\n",
       "        vertical-align: middle;\n",
       "    }\n",
       "\n",
       "    .dataframe tbody tr th {\n",
       "        vertical-align: top;\n",
       "    }\n",
       "\n",
       "    .dataframe thead th {\n",
       "        text-align: right;\n",
       "    }\n",
       "</style>\n",
       "<table border=\"1\" class=\"dataframe\">\n",
       "  <thead>\n",
       "    <tr style=\"text-align: right;\">\n",
       "      <th></th>\n",
       "      <th>email</th>\n",
       "      <th>will you want to use code editor</th>\n",
       "      <th>familiar language</th>\n",
       "      <th>years</th>\n",
       "    </tr>\n",
       "  </thead>\n",
       "  <tbody>\n",
       "    <tr>\n",
       "      <th>0</th>\n",
       "      <td>ben@gmail.com</td>\n",
       "      <td>T</td>\n",
       "      <td>ruby</td>\n",
       "      <td>6</td>\n",
       "    </tr>\n",
       "    <tr>\n",
       "      <th>1</th>\n",
       "      <td>mary@gmail.io</td>\n",
       "      <td>F</td>\n",
       "      <td>javascript</td>\n",
       "      <td>5</td>\n",
       "    </tr>\n",
       "    <tr>\n",
       "      <th>2</th>\n",
       "      <td>tom@gmail.io</td>\n",
       "      <td>T</td>\n",
       "      <td>python</td>\n",
       "      <td>4</td>\n",
       "    </tr>\n",
       "    <tr>\n",
       "      <th>3</th>\n",
       "      <td>jane@gmail.io</td>\n",
       "      <td>T</td>\n",
       "      <td>python</td>\n",
       "      <td>7</td>\n",
       "    </tr>\n",
       "    <tr>\n",
       "      <th>4</th>\n",
       "      <td>mars@gmail.io</td>\n",
       "      <td>T</td>\n",
       "      <td>ruby</td>\n",
       "      <td>6</td>\n",
       "    </tr>\n",
       "  </tbody>\n",
       "</table>\n",
       "</div>"
      ],
      "text/plain": [
       "           email will you want to use code editor familiar language  years\n",
       "0  ben@gmail.com                                T              ruby      6\n",
       "1  mary@gmail.io                                F        javascript      5\n",
       "2   tom@gmail.io                                T            python      4\n",
       "3  jane@gmail.io                                T            python      7\n",
       "4  mars@gmail.io                                T              ruby      6"
      ]
     },
     "execution_count": 2,
     "metadata": {},
     "output_type": "execute_result"
    }
   ],
   "source": [
    "quiz_df = pd.read_csv('quiz.csv')\n",
    "quiz_df.head()"
   ]
  },
  {
   "cell_type": "code",
   "execution_count": 3,
   "metadata": {},
   "outputs": [
    {
     "name": "stdout",
     "output_type": "stream",
     "text": [
      "7\n"
     ]
    }
   ],
   "source": [
    "max_years = quiz_df['years'].max()\n",
    "print(max_years)"
   ]
  },
  {
   "cell_type": "code",
   "execution_count": 4,
   "metadata": {},
   "outputs": [
    {
     "data": {
      "text/html": [
       "<div>\n",
       "<style scoped>\n",
       "    .dataframe tbody tr th:only-of-type {\n",
       "        vertical-align: middle;\n",
       "    }\n",
       "\n",
       "    .dataframe tbody tr th {\n",
       "        vertical-align: top;\n",
       "    }\n",
       "\n",
       "    .dataframe thead th {\n",
       "        text-align: right;\n",
       "    }\n",
       "</style>\n",
       "<table border=\"1\" class=\"dataframe\">\n",
       "  <thead>\n",
       "    <tr style=\"text-align: right;\">\n",
       "      <th></th>\n",
       "      <th>email</th>\n",
       "      <th>will you want to use code editor</th>\n",
       "      <th>familiar language</th>\n",
       "      <th>years</th>\n",
       "    </tr>\n",
       "  </thead>\n",
       "  <tbody>\n",
       "    <tr>\n",
       "      <th>3</th>\n",
       "      <td>jane@gmail.io</td>\n",
       "      <td>T</td>\n",
       "      <td>python</td>\n",
       "      <td>7</td>\n",
       "    </tr>\n",
       "  </tbody>\n",
       "</table>\n",
       "</div>"
      ],
      "text/plain": [
       "           email will you want to use code editor familiar language  years\n",
       "3  jane@gmail.io                                T            python      7"
      ]
     },
     "execution_count": 4,
     "metadata": {},
     "output_type": "execute_result"
    }
   ],
   "source": [
    "quiz_df['years'] == max_years\n",
    "quiz_df[quiz_df['years'] == max_years]"
   ]
  },
  {
   "cell_type": "code",
   "execution_count": 5,
   "metadata": {},
   "outputs": [
    {
     "name": "stdout",
     "output_type": "stream",
     "text": [
      "5.16666666667\n"
     ]
    }
   ],
   "source": [
    "mean_years = quiz_df['years'].mean()\n",
    "print(mean_years)"
   ]
  },
  {
   "cell_type": "code",
   "execution_count": 6,
   "metadata": {},
   "outputs": [
    {
     "name": "stdout",
     "output_type": "stream",
     "text": [
      "python        3\n",
      "ruby          2\n",
      "javascript    1\n",
      "Name: familiar language, dtype: int64\n"
     ]
    }
   ],
   "source": [
    "result = quiz_df[\"familiar language\"].value_counts()\n",
    "print(result)"
   ]
  },
  {
   "cell_type": "code",
   "execution_count": 7,
   "metadata": {},
   "outputs": [
    {
     "name": "stdout",
     "output_type": "stream",
     "text": [
      "            email will you want to use code editor familiar language  years\n",
      "2    tom@gmail.io                                T            python      4\n",
      "3   jane@gmail.io                                T            python      7\n",
      "5  david@gmail.io                                T            python      3\n"
     ]
    }
   ],
   "source": [
    "popular_language = result.index[0]\n",
    "quiz_user_with_popular_language = quiz_df[quiz_df['familiar language']==popular_language]\n",
    "print(quiz_user_with_popular_language)"
   ]
  },
  {
   "cell_type": "code",
   "execution_count": 8,
   "metadata": {},
   "outputs": [
    {
     "name": "stdout",
     "output_type": "stream",
     "text": [
      "            email   id  name will you want to use code editor  \\\n",
      "0   mary@gmail.io  9.0  mary                                F   \n",
      "1   ben@gmail.com  NaN   NaN                                T   \n",
      "2    tom@gmail.io  NaN   NaN                                T   \n",
      "3   jane@gmail.io  NaN   NaN                                T   \n",
      "4   mars@gmail.io  NaN   NaN                                T   \n",
      "5  david@gmail.io  NaN   NaN                                T   \n",
      "\n",
      "  familiar language  years  \n",
      "0        javascript      5  \n",
      "1              ruby      6  \n",
      "2            python      4  \n",
      "3            python      7  \n",
      "4              ruby      6  \n",
      "5            python      3  \n"
     ]
    }
   ],
   "source": [
    "quiz_with_user = pd.merge(user_df, quiz_df, how='right', left_on = 'email', right_on = 'email')\n",
    "print(quiz_with_user)"
   ]
  },
  {
   "cell_type": "code",
   "execution_count": 9,
   "metadata": {},
   "outputs": [
    {
     "name": "stdout",
     "output_type": "stream",
     "text": [
      "           email   id  name will you want to use code editor  \\\n",
      "0  mary@gmail.io  9.0  mary                                F   \n",
      "\n",
      "  familiar language  years  \n",
      "0        javascript      5  \n"
     ]
    }
   ],
   "source": [
    "result = quiz_with_user.dropna()\n",
    "print(result)"
   ]
  },
  {
   "cell_type": "code",
   "execution_count": 11,
   "metadata": {},
   "outputs": [
    {
     "name": "stdout",
     "output_type": "stream",
     "text": [
      "Empty DataFrame\n",
      "Columns: [email, id, name, will you want to use code editor, familiar language, years]\n",
      "Index: []\n"
     ]
    }
   ],
   "source": [
    "result = result[result['will you want to use code editor']=='T']\n",
    "print(result)"
   ]
  },
  {
   "cell_type": "code",
   "execution_count": null,
   "metadata": {},
   "outputs": [],
   "source": []
  }
 ],
 "metadata": {
  "kernelspec": {
   "display_name": "Python 3",
   "language": "python",
   "name": "python3"
  },
  "language_info": {
   "codemirror_mode": {
    "name": "ipython",
    "version": 3
   },
   "file_extension": ".py",
   "mimetype": "text/x-python",
   "name": "python",
   "nbconvert_exporter": "python",
   "pygments_lexer": "ipython3",
   "version": "3.6.4"
  }
 },
 "nbformat": 4,
 "nbformat_minor": 2
}
